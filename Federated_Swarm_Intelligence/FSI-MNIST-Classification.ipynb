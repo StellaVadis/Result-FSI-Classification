{
 "cells": [
  {
   "cell_type": "code",
   "execution_count": 1,
   "id": "429691c3",
   "metadata": {},
   "outputs": [],
   "source": [
    "import numpy as np\n",
    "import pandas as pd\n",
    "import matplotlib.pyplot as plt\n",
    "from tqdm import tqdm\n",
    "from copy import deepcopy\n",
    "from scipy.io import loadmat\n",
    "import random\n",
    "from keras.datasets import mnist\n",
    "from matplotlib import rcParams\n",
    "import matplotlib as mpl"
   ]
  },
  {
   "cell_type": "code",
   "execution_count": null,
   "id": "ce6e542e",
   "metadata": {},
   "outputs": [],
   "source": [
    "data = loadmat(\"hw12data.mat\")\n",
    "#The clients hold data\n",
    "X0 = np.hstack([np.ones([400,1]),data['X'][0:400,:]])\n",
    "X1 = np.hstack([np.ones([400,1]),data['X'][500:900,:]])\n",
    "X2 = np.hstack([np.ones([400,1]),data['X'][1000:1400,:]])\n",
    "X3 = np.hstack([np.ones([400,1]),data['X'][1500:1900,:]])\n",
    "X4 = np.hstack([np.ones([400,1]),data['X'][2000:2400,:]])\n",
    "X5 = np.hstack([np.ones([400,1]),data['X'][2500:2900,:]])\n",
    "X6 = np.hstack([np.ones([400,1]),data['X'][3000:3400,:]])\n",
    "X7 = np.hstack([np.ones([400,1]),data['X'][3500:3900,:]])\n",
    "X8 = np.hstack([np.ones([400,1]),data['X'][4000:4400,:]])\n",
    "X9 = np.hstack([np.ones([400,1]),data['X'][4500:4900,:]])\n",
    "y0 = np.array(np.zeros([400,1]),dtype = int)\n",
    "y1 = data['y'][500:900,:]\n",
    "y2 = data['y'][1000:1400,:]\n",
    "y3 = data['y'][1500:1900,:]\n",
    "y4 = data['y'][2000:2400,:]\n",
    "y5 = data['y'][2500:2900,:]\n",
    "y6 = data['y'][3000:3400,:]\n",
    "y7 = data['y'][3500:3900,:]\n",
    "y8 = data['y'][4000:4400,:]\n",
    "y9 = data['y'][4500:4900,:]\n",
    "model0_y0 = 1.0 * (y0==0)\n",
    "x_test = np.vstack([data['X'][400:500,:],data['X'][900:1000],data['X'][1400:1500],data['X'][1900:2000],data['X'][2400:2500]\n",
    "              ,data['X'][2900:3000],data['X'][3400:3500],data['X'][3900:4000],data['X'][4400:4500],data['X'][4900:5000]])\n",
    "X_test = np.hstack([np.zeros([1000,1]),x_test])\n",
    "y_test = np.vstack([data['y'][400:500,:],data['y'][900:1000],data['y'][1400:1500],data['y'][1900:2000],data['y'][2400:2500]\n",
    "              ,data['y'][2900:3000],data['y'][3400:3500],data['y'][3900:4000],data['y'][4400:4500],data['y'][4900:5000]])\n",
    "y_test[y_test == 10] = 0"
   ]
  },
  {
   "cell_type": "code",
   "execution_count": null,
   "id": "b06e66fd",
   "metadata": {},
   "outputs": [],
   "source": [
    "def h(X,theta):\n",
    "    return(1/(1+np.exp(-np.matmul(X,theta))))\n",
    "\n",
    "def compute_error(X,y,theta):\n",
    "    return(-(np.sum(y * np.log(h(X,theta)+ 1e-3) + (1-y)* np.log(1-h(X,theta) + 1e-3))))\n",
    "\n",
    "def FSI_Classification_10(X0,X1,X2,X3,X4,X5,X6,X7,X8,X9,model_y0,model_y1,modely_2,model_y3,model_y4,model_y5,model_y6,\n",
    "                          model_y7,model_y8,model_y9,w1,w2,S,max_epoch):\n",
    "#The following process is completed on server.\n",
    "##################################################################################################\n",
    "    alpha  = 0.001\n",
    "    theta = np.random.rand(401,S)\n",
    "    v = np.zeros([401,S])\n",
    "    minimum_record = []\n",
    "    failure = 0\n",
    "##################################################################################################\n",
    "\n",
    "\n",
    "    for epoch in tqdm(range(0,max_epoch,1)):\n",
    "        #The following process is completed on server.\n",
    "        ##################################################################################################\n",
    "        BCE_old = [0] * S\n",
    "        ##################################################################################################\n",
    "\n",
    "        #Send the model to all clients, and clients respond the server with errors.\n",
    "        #The server do not touch the raw data.\n",
    "        #The following process is completed on clients.\n",
    "        ################################################################\n",
    "        for s in range(0,S,1):\n",
    "            BCE0 = compute_error(X0,model0_y0,theta[:,[s]])\n",
    "            BCE1 = compute_error(X1,model0_y1,theta[:,[s]])\n",
    "            BCE2 = compute_error(X2,model0_y2,theta[:,[s]])\n",
    "            BCE3 = compute_error(X3,model0_y3,theta[:,[s]])\n",
    "            BCE4 = compute_error(X4,model0_y4,theta[:,[s]])\n",
    "            BCE5 = compute_error(X5,model0_y5,theta[:,[s]])\n",
    "            BCE6 = compute_error(X6,model0_y6,theta[:,[s]])\n",
    "            BCE7 = compute_error(X7,model0_y7,theta[:,[s]])\n",
    "            BCE8 = compute_error(X8,model0_y8,theta[:,[s]])\n",
    "            BCE9 = compute_error(X9,model0_y9,theta[:,[s]])\n",
    "        ################################################################\n",
    "        \n",
    "            BCE_old[s] = BCE0 + BCE1 + BCE2 + BCE3 + BCE4 + BCE5 + BCE6 + BCE7 + BCE8 + BCE9\n",
    "        minimum_record.append(np.min(BCE_old))\n",
    "\n",
    "        #Adpative Learning rate\n",
    "        if epoch > 0:\n",
    "            if minimum_record[-1] < minimum_record[-2]:\n",
    "                alpha = alpha * 2\n",
    "            else:\n",
    "                failure += 1\n",
    "\n",
    "            if minimum_record[-1] > minimum_record[-2]:\n",
    "                break\n",
    "\n",
    "        if failure == 6:\n",
    "            failure = 0\n",
    "            alpha = alpha / 2\n",
    "\n",
    "        if epoch%1 == 0:\n",
    "            print(alpha)\n",
    "            print(minimum_record[-1])\n",
    "\n",
    "        gbest = deepcopy(theta[:,[np.argmin(BCE_old)]])\n",
    "        v = deepcopy(alpha * ( w1* v +  w2 * np.random.rand(401,S) * (gbest - theta) + (1-w1 -w2) * (np.random.rand(401,S) * 2-1) ) )\n",
    "        temp = deepcopy(theta + v)\n",
    "\n",
    "        BCE_new = [0] * S\n",
    "        #Send the model to all clients, and clients respond the server with errors.\n",
    "        #The server do not touch the raw data.\n",
    "        #The following process is completed on clients.\n",
    "        ################################################################\n",
    "        for s in range(0,S,1):\n",
    "            BCE0 = compute_error(X0,model0_y0,temp[:,[s]])\n",
    "            BCE1 = compute_error(X1,model0_y1,temp[:,[s]])\n",
    "            BCE2 = compute_error(X2,model0_y2,temp[:,[s]])\n",
    "            BCE3 = compute_error(X3,model0_y3,temp[:,[s]])\n",
    "            BCE4 = compute_error(X4,model0_y4,temp[:,[s]])\n",
    "            BCE5 = compute_error(X5,model0_y5,temp[:,[s]])\n",
    "            BCE6 = compute_error(X6,model0_y6,temp[:,[s]])\n",
    "            BCE7 = compute_error(X7,model0_y7,temp[:,[s]])\n",
    "            BCE8 = compute_error(X8,model0_y8,temp[:,[s]])\n",
    "            BCE9 = compute_error(X9,model0_y9,temp[:,[s]])\n",
    "        ################################################################\n",
    "            BCE_new[s] = BCE0 + BCE1 + BCE2 + BCE3 + BCE4 + BCE5 + BCE6 + BCE7 + BCE8 + BCE9\n",
    "\n",
    "        for particles in range(0,S,1):\n",
    "            if BCE_new[particles]  < BCE_old[particles]:\n",
    "                theta[:,[particles]] = deepcopy(temp[:,[particles]])\n",
    "    return(gbest)"
   ]
  },
  {
   "cell_type": "markdown",
   "id": "0463980a",
   "metadata": {},
   "source": [
    "# Model 0"
   ]
  },
  {
   "cell_type": "code",
   "execution_count": null,
   "id": "7ffef4e4",
   "metadata": {
    "scrolled": true
   },
   "outputs": [],
   "source": [
    "index = 0\n",
    "model_y0 = 1.0 * (y0==index)\n",
    "model_y1 = 1.0 * (y1==index)\n",
    "model_y2 = 1.0 * (y2==index)\n",
    "model_y3 = 1.0 * (y3==index)\n",
    "model_y4 = 1.0 * (y4==index)\n",
    "model_y5 = 1.0 * (y5==index)\n",
    "model_y6 = 1.0 * (y6==index)\n",
    "model_y7 = 1.0 * (y7==index)\n",
    "model_y8 = 1.0 * (y8==index)\n",
    "model_y9 = 1.0 * (y9==index)\n",
    "w1 = 0\n",
    "w2 = 0.3\n",
    "S = 20\n",
    "max_epoch = 1600\n",
    "theta0 = FSI_Classification_10(X0,X1,X2,X3,X4,X5,X6,X7,X8,X9,model_y0,model_y1,model_y2,model_y3,model_y4,model_y5,model_y6,\n",
    "                          model_y7,model_y8,model_y9,w1,w2,S,max_epoch)"
   ]
  },
  {
   "cell_type": "markdown",
   "id": "340a696c",
   "metadata": {},
   "source": [
    "# Model 1"
   ]
  },
  {
   "cell_type": "code",
   "execution_count": null,
   "id": "ae5ef6b9",
   "metadata": {},
   "outputs": [],
   "source": [
    "index = 1\n",
    "model_y0 = 1.0 * (y0==index)\n",
    "model_y1 = 1.0 * (y1==index)\n",
    "model_y2 = 1.0 * (y2==index)\n",
    "model_y3 = 1.0 * (y3==index)\n",
    "model_y4 = 1.0 * (y4==index)\n",
    "model_y5 = 1.0 * (y5==index)\n",
    "model_y6 = 1.0 * (y6==index)\n",
    "model_y7 = 1.0 * (y7==index)\n",
    "model_y8 = 1.0 * (y8==index)\n",
    "model_y9 = 1.0 * (y9==index)\n",
    "w1 = 0\n",
    "w2 = 0.3\n",
    "S = 20\n",
    "max_epoch = 1600\n",
    "theta1 = FSI_Classification_10(X0,X1,X2,X3,X4,X5,X6,X7,X8,X9,model_y0,model_y1,model_y2,model_y3,model_y4,model_y5,model_y6,\n",
    "                          model_y7,model_y8,model_y9,w1,w2,S,max_epoch)"
   ]
  },
  {
   "cell_type": "markdown",
   "id": "2438e522",
   "metadata": {},
   "source": [
    "# Model 2"
   ]
  },
  {
   "cell_type": "code",
   "execution_count": null,
   "id": "afe026de",
   "metadata": {
    "scrolled": true
   },
   "outputs": [],
   "source": [
    "index = 2\n",
    "model_y0 = 1.0 * (y0==index)\n",
    "model_y1 = 1.0 * (y1==index)\n",
    "model_y2 = 1.0 * (y2==index)\n",
    "model_y3 = 1.0 * (y3==index)\n",
    "model_y4 = 1.0 * (y4==index)\n",
    "model_y5 = 1.0 * (y5==index)\n",
    "model_y6 = 1.0 * (y6==index)\n",
    "model_y7 = 1.0 * (y7==index)\n",
    "model_y8 = 1.0 * (y8==index)\n",
    "model_y9 = 1.0 * (y9==index)\n",
    "w1 = 0\n",
    "w2 = 0.3\n",
    "S = 20\n",
    "max_epoch = 1600\n",
    "theta2 = FSI_Classification_10(X0,X1,X2,X3,X4,X5,X6,X7,X8,X9,model_y0,model_y1,model_y2,model_y3,model_y4,model_y5,model_y6,\n",
    "                          model_y7,model_y8,model_y9,w1,w2,S,max_epoch)"
   ]
  },
  {
   "cell_type": "markdown",
   "id": "d078c9cf",
   "metadata": {},
   "source": [
    "# Model 3"
   ]
  },
  {
   "cell_type": "code",
   "execution_count": null,
   "id": "c9376582",
   "metadata": {},
   "outputs": [],
   "source": [
    "index = 3\n",
    "model_y0 = 1.0 * (y0==index)\n",
    "model_y1 = 1.0 * (y1==index)\n",
    "model_y2 = 1.0 * (y2==index)\n",
    "model_y3 = 1.0 * (y3==index)\n",
    "model_y4 = 1.0 * (y4==index)\n",
    "model_y5 = 1.0 * (y5==index)\n",
    "model_y6 = 1.0 * (y6==index)\n",
    "model_y7 = 1.0 * (y7==index)\n",
    "model_y8 = 1.0 * (y8==index)\n",
    "model_y9 = 1.0 * (y9==index)\n",
    "w1 = 0\n",
    "w2 = 0.3\n",
    "S = 20\n",
    "max_epoch = 1600\n",
    "theta3 = FSI_Classification_10(X0,X1,X2,X3,X4,X5,X6,X7,X8,X9,model_y0,model_y1,model_y2,model_y3,model_y4,model_y5,model_y6,\n",
    "                          model_y7,model_y8,model_y9,w1,w2,S,max_epoch)"
   ]
  },
  {
   "cell_type": "markdown",
   "id": "e14ac1aa",
   "metadata": {},
   "source": [
    "# Model 4"
   ]
  },
  {
   "cell_type": "code",
   "execution_count": null,
   "id": "f5d3742f",
   "metadata": {},
   "outputs": [],
   "source": [
    "index = 4\n",
    "model_y0 = 1.0 * (y0==index)\n",
    "model_y1 = 1.0 * (y1==index)\n",
    "model_y2 = 1.0 * (y2==index)\n",
    "model_y3 = 1.0 * (y3==index)\n",
    "model_y4 = 1.0 * (y4==index)\n",
    "model_y5 = 1.0 * (y5==index)\n",
    "model_y6 = 1.0 * (y6==index)\n",
    "model_y7 = 1.0 * (y7==index)\n",
    "model_y8 = 1.0 * (y8==index)\n",
    "model_y9 = 1.0 * (y9==index)\n",
    "w1 = 0\n",
    "w2 = 0.3\n",
    "S = 20\n",
    "max_epoch = 1600\n",
    "theta4 = FSI_Classification_10(X0,X1,X2,X3,X4,X5,X6,X7,X8,X9,model_y0,model_y1,model_y2,model_y3,model_y4,model_y5,model_y6,\n",
    "                          model_y7,model_y8,model_y9,w1,w2,S,max_epoch)"
   ]
  },
  {
   "cell_type": "markdown",
   "id": "ed2b95e0",
   "metadata": {},
   "source": [
    "# Model 5"
   ]
  },
  {
   "cell_type": "code",
   "execution_count": null,
   "id": "ff907d05",
   "metadata": {},
   "outputs": [],
   "source": [
    "index = 5\n",
    "model_y0 = 1.0 * (y0==index)\n",
    "model_y1 = 1.0 * (y1==index)\n",
    "model_y2 = 1.0 * (y2==index)\n",
    "model_y3 = 1.0 * (y3==index)\n",
    "model_y4 = 1.0 * (y4==index)\n",
    "model_y5 = 1.0 * (y5==index)\n",
    "model_y6 = 1.0 * (y6==index)\n",
    "model_y7 = 1.0 * (y7==index)\n",
    "model_y8 = 1.0 * (y8==index)\n",
    "model_y9 = 1.0 * (y9==index)\n",
    "w1 = 0\n",
    "w2 = 0.3\n",
    "S = 20\n",
    "max_epoch = 1600\n",
    "theta5 = FSI_Classification_10(X0,X1,X2,X3,X4,X5,X6,X7,X8,X9,model_y0,model_y1,model_y2,model_y3,model_y4,model_y5,model_y6,\n",
    "                          model_y7,model_y8,model_y9,w1,w2,S,max_epoch)"
   ]
  },
  {
   "cell_type": "markdown",
   "id": "30efa57d",
   "metadata": {},
   "source": [
    "# Model 6"
   ]
  },
  {
   "cell_type": "code",
   "execution_count": null,
   "id": "443ce514",
   "metadata": {},
   "outputs": [],
   "source": [
    "index = 6\n",
    "model_y0 = 1.0 * (y0==index)\n",
    "model_y1 = 1.0 * (y1==index)\n",
    "model_y2 = 1.0 * (y2==index)\n",
    "model_y3 = 1.0 * (y3==index)\n",
    "model_y4 = 1.0 * (y4==index)\n",
    "model_y5 = 1.0 * (y5==index)\n",
    "model_y6 = 1.0 * (y6==index)\n",
    "model_y7 = 1.0 * (y7==index)\n",
    "model_y8 = 1.0 * (y8==index)\n",
    "model_y9 = 1.0 * (y9==index)\n",
    "w1 = 0\n",
    "w2 = 0.3\n",
    "S = 20\n",
    "max_epoch = 1600\n",
    "theta6 = FSI_Classification_10(X0,X1,X2,X3,X4,X5,X6,X7,X8,X9,model_y0,model_y1,model_y2,model_y3,model_y4,model_y5,model_y6,\n",
    "                          model_y7,model_y8,model_y9,w1,w2,S,max_epoch)"
   ]
  },
  {
   "cell_type": "markdown",
   "id": "188fe341",
   "metadata": {},
   "source": [
    "# Model 7"
   ]
  },
  {
   "cell_type": "code",
   "execution_count": null,
   "id": "593d7e08",
   "metadata": {},
   "outputs": [],
   "source": [
    "index = 7\n",
    "model_y0 = 1.0 * (y0==index)\n",
    "model_y1 = 1.0 * (y1==index)\n",
    "model_y2 = 1.0 * (y2==index)\n",
    "model_y3 = 1.0 * (y3==index)\n",
    "model_y4 = 1.0 * (y4==index)\n",
    "model_y5 = 1.0 * (y5==index)\n",
    "model_y6 = 1.0 * (y6==index)\n",
    "model_y7 = 1.0 * (y7==index)\n",
    "model_y8 = 1.0 * (y8==index)\n",
    "model_y9 = 1.0 * (y9==index)\n",
    "w1 = 0\n",
    "w2 = 0.3\n",
    "S = 20\n",
    "max_epoch = 1600\n",
    "theta7 = FSI_Classification_10(X0,X1,X2,X3,X4,X5,X6,X7,X8,X9,model_y0,model_y1,model_y2,model_y3,model_y4,model_y5,model_y6,\n",
    "                          model_y7,model_y8,model_y9,w1,w2,S,max_epoch)"
   ]
  },
  {
   "cell_type": "markdown",
   "id": "ec849b17",
   "metadata": {},
   "source": [
    "# Model 8"
   ]
  },
  {
   "cell_type": "code",
   "execution_count": null,
   "id": "665e1276",
   "metadata": {},
   "outputs": [],
   "source": [
    "index = 8\n",
    "model_y0 = 1.0 * (y0==index)\n",
    "model_y1 = 1.0 * (y1==index)\n",
    "model_y2 = 1.0 * (y2==index)\n",
    "model_y3 = 1.0 * (y3==index)\n",
    "model_y4 = 1.0 * (y4==index)\n",
    "model_y5 = 1.0 * (y5==index)\n",
    "model_y6 = 1.0 * (y6==index)\n",
    "model_y7 = 1.0 * (y7==index)\n",
    "model_y8 = 1.0 * (y8==index)\n",
    "model_y9 = 1.0 * (y9==index)\n",
    "w1 = 0\n",
    "w2 = 0.3\n",
    "S = 20\n",
    "max_epoch = 1600\n",
    "theta8 = FSI_Classification_10(X0,X1,X2,X3,X4,X5,X6,X7,X8,X9,model_y0,model_y1,model_y2,model_y3,model_y4,model_y5,model_y6,\n",
    "                          model_y7,model_y8,model_y9,w1,w2,S,max_epoch)"
   ]
  },
  {
   "cell_type": "markdown",
   "id": "8b677748",
   "metadata": {},
   "source": [
    "# Model 9"
   ]
  },
  {
   "cell_type": "code",
   "execution_count": null,
   "id": "c4197c86",
   "metadata": {},
   "outputs": [],
   "source": [
    "index = 9\n",
    "model_y0 = 1.0 * (y0==index)\n",
    "model_y1 = 1.0 * (y1==index)\n",
    "model_y2 = 1.0 * (y2==index)\n",
    "model_y3 = 1.0 * (y3==index)\n",
    "model_y4 = 1.0 * (y4==index)\n",
    "model_y5 = 1.0 * (y5==index)\n",
    "model_y6 = 1.0 * (y6==index)\n",
    "model_y7 = 1.0 * (y7==index)\n",
    "model_y8 = 1.0 * (y8==index)\n",
    "model_y9 = 1.0 * (y9==index)\n",
    "w1 = 0\n",
    "w2 = 0.3\n",
    "S = 20\n",
    "max_epoch = 1600\n",
    "theta9 = FSI_Classification_10(X0,X1,X2,X3,X4,X5,X6,X7,X8,X9,model_y0,model_y1,model_y2,model_y3,model_y4,model_y5,model_y6,\n",
    "                          model_y7,model_y8,model_y9,w1,w2,S,max_epoch)"
   ]
  },
  {
   "cell_type": "markdown",
   "id": "1c42fdfc",
   "metadata": {},
   "source": [
    "# Prediction of the Test Dataset"
   ]
  },
  {
   "cell_type": "code",
   "execution_count": null,
   "id": "de41fe13",
   "metadata": {},
   "outputs": [],
   "source": [
    "total = np.hstack([h(X_test,theta0),h(X_test,theta1),h(X_test,theta2),h(X_test,theta3),h(X_test,theta4),\n",
    "                   h(X_test,theta5),h(X_test,theta6),h(X_test,theta7),h(X_test,theta8),h(X_test,theta9)])\n",
    "prediction = np.argmax(total, axis = 1)"
   ]
  },
  {
   "cell_type": "code",
   "execution_count": null,
   "id": "c5bfe014",
   "metadata": {},
   "outputs": [],
   "source": [
    "prediction"
   ]
  },
  {
   "cell_type": "markdown",
   "id": "f4ef15ce",
   "metadata": {},
   "source": [
    "# Make Confusion Matrix"
   ]
  },
  {
   "cell_type": "code",
   "execution_count": null,
   "id": "1facefa2",
   "metadata": {},
   "outputs": [],
   "source": [
    "confusion_matrix = np.zeros([10,10],dtype = int)\n",
    "for i in range(0,10,1):\n",
    "    for j in range(0,10,1):\n",
    "        confusion_matrix[i,j] = (np.sum(prediction[i * 100:(i+1) * 100] == j))"
   ]
  },
  {
   "cell_type": "code",
   "execution_count": null,
   "id": "71a500df",
   "metadata": {},
   "outputs": [],
   "source": [
    "confusion_matrix"
   ]
  },
  {
   "cell_type": "code",
   "execution_count": null,
   "id": "f39a38cf",
   "metadata": {},
   "outputs": [],
   "source": []
  }
 ],
 "metadata": {
  "kernelspec": {
   "display_name": "Python 3 (ipykernel)",
   "language": "python",
   "name": "python3"
  },
  "language_info": {
   "codemirror_mode": {
    "name": "ipython",
    "version": 3
   },
   "file_extension": ".py",
   "mimetype": "text/x-python",
   "name": "python",
   "nbconvert_exporter": "python",
   "pygments_lexer": "ipython3",
   "version": "3.9.12"
  }
 },
 "nbformat": 4,
 "nbformat_minor": 5
}
